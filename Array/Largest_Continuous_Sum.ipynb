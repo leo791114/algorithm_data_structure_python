{
 "cells": [
  {
   "cell_type": "markdown",
   "metadata": {},
   "source": [
    "### Problem\n",
    "\n",
    "Given an array of integers (positive and negative) find the largest continuous sum."
   ]
  },
  {
   "cell_type": "code",
   "execution_count": 2,
   "metadata": {},
   "outputs": [],
   "source": [
    "def large_cont_sum(arr): \n",
    "    \n",
    "    max_sum = cur_sum = arr[0]\n",
    "    lst_index = []\n",
    "    reset_b_idx = None\n",
    "    \n",
    "    for i, cur_val in enumerate(arr[1:]):\n",
    "        \n",
    "        if cur_sum < 0:\n",
    "            cur_sum = cur_val\n",
    "            reset_b_idx = i + 1\n",
    "        else:\n",
    "            cur_sum += cur_val\n",
    "        \n",
    "        if cur_sum > max_sum:\n",
    "            if reset_b_idx and reset_b_idx not in lst_index:\n",
    "                lst_index = [reset_b_idx, i]\n",
    "            else:\n",
    "                lst_index.append(i)\n",
    "            max_sum = cur_sum        \n",
    "            \n",
    "    return max_sum\n",
    "\n",
    "\n",
    "'''\n",
    "If the array is all positive, then the result is simply the sum of all numbers. \n",
    "The negative numbers in the array will cause us to need to begin checking sequences.\n",
    "The algorithm is, we start summing up the numbers and store in a current sum variable. \n",
    "After adding each element, we check whether the current sum is larger than maximum sum encountered so far. \n",
    "If it is, we update the maximum sum. As long as the current sum is positive, we keep adding the numbers. \n",
    "When the current sum becomes negative, we start with a new current sum. \n",
    "Because a negative current sum will only decrease the sum of a future sequence. \n",
    "##Note that we don't reset the current sum to 0 because the array can contain all negative integers.##\n",
    "##Then the result would be the largest negative number.##\n",
    "'''\n",
    "def large_cont_sum2(arr):\n",
    "    \n",
    "    if len(arr) == 0:\n",
    "        return 0\n",
    "    \n",
    "    max_sum = cur_sum = arr[0]\n",
    "    \n",
    "    for cur_val in arr[1:]:\n",
    "        \n",
    "        cur_sum = max(cur_sum + cur_val, cur_val)\n",
    "        \n",
    "        max_sum = max(cur_sum, max_sum)\n",
    "        \n",
    "    return max_sum"
   ]
  },
  {
   "cell_type": "code",
   "execution_count": 4,
   "metadata": {},
   "outputs": [
    {
     "name": "stdout",
     "output_type": "stream",
     "text": [
      "ALL TEST CASES PASSED\n"
     ]
    }
   ],
   "source": [
    "from nose.tools import assert_equal\n",
    "\n",
    "class LargeContTest(object):\n",
    "    def test(self,sol):\n",
    "        assert_equal(sol([1,2,-1,3,4,-1]),9)\n",
    "        assert_equal(sol([1,2,-1,3,4,10,10,-10,-1]),29)\n",
    "        assert_equal(sol([-1,1]),1)\n",
    "        print('ALL TEST CASES PASSED')\n",
    "        \n",
    "#Run Test\n",
    "t = LargeContTest()\n",
    "t.test(large_cont_sum)"
   ]
  },
  {
   "cell_type": "code",
   "execution_count": null,
   "metadata": {},
   "outputs": [],
   "source": []
  }
 ],
 "metadata": {
  "kernelspec": {
   "display_name": "pytorch_env",
   "language": "python",
   "name": "pytorch_env"
  },
  "language_info": {
   "codemirror_mode": {
    "name": "ipython",
    "version": 3
   },
   "file_extension": ".py",
   "mimetype": "text/x-python",
   "name": "python",
   "nbconvert_exporter": "python",
   "pygments_lexer": "ipython3",
   "version": "3.7.3"
  }
 },
 "nbformat": 4,
 "nbformat_minor": 2
}
