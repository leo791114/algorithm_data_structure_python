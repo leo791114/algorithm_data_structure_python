{
 "cells": [
  {
   "cell_type": "code",
   "execution_count": 1,
   "metadata": {},
   "outputs": [],
   "source": [
    "import ctypes"
   ]
  },
  {
   "cell_type": "code",
   "execution_count": 2,
   "metadata": {},
   "outputs": [],
   "source": [
    "class DynamicArray():\n",
    "    \n",
    "    def __init__(self):\n",
    "        \n",
    "        self.n = 0\n",
    "        self.capacity = 0\n",
    "        self.array = self.make_array(self.capacity)\n",
    "        \n",
    "    def __len__(self):\n",
    "        return len(self.array)\n",
    "    \n",
    "    def __getitem__(self, idx):\n",
    "        \n",
    "        if not 0<= idx < self.n:\n",
    "            raise IndexError(\"Index out of bound\")\n",
    "            \n",
    "        return self.array[idx]\n",
    "        \n",
    "    def append(self, x):\n",
    "        \n",
    "        if self.n == self.capacity:\n",
    "            self._expand_capacity(2*self.capacity)\n",
    "        \n",
    "        self.array[self.n] = x\n",
    "        self.n += 1\n",
    "    \n",
    "    def _expand_capacity(self, new_capacity):\n",
    "        \n",
    "        B = self.make_array(new_capacity)\n",
    "        \n",
    "        for k in range(self.n):\n",
    "            B[k] = self.array[k]\n",
    "        \n",
    "        self.array = B\n",
    "        self.capacity = new_capacity\n",
    "        \n",
    "    def make_array(self, capacity):\n",
    "        \n",
    "        return (capacity * ctypes.py_object)()"
   ]
  },
  {
   "cell_type": "code",
   "execution_count": null,
   "metadata": {},
   "outputs": [],
   "source": []
  }
 ],
 "metadata": {
  "kernelspec": {
   "display_name": "pytorch_env",
   "language": "python",
   "name": "pytorch_env"
  },
  "language_info": {
   "codemirror_mode": {
    "name": "ipython",
    "version": 3
   },
   "file_extension": ".py",
   "mimetype": "text/x-python",
   "name": "python",
   "nbconvert_exporter": "python",
   "pygments_lexer": "ipython3",
   "version": "3.7.3"
  }
 },
 "nbformat": 4,
 "nbformat_minor": 2
}
