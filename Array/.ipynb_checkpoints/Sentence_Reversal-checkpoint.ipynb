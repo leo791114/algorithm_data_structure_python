{
 "cells": [
  {
   "cell_type": "markdown",
   "metadata": {},
   "source": [
    "### Problem\n",
    "\n",
    "Given a string of words, reverse all the words. For example:\n",
    "\n",
    "Given:\n",
    "\n",
    "'This is the best'\n",
    "\n",
    "Return:\n",
    "\n",
    "'best the is This'\n",
    "\n",
    "As part of this exercise you should remove all leading and trailing whitespace. So that inputs such as:\n",
    "\n",
    "'  space here'  and 'space here      '\n",
    "\n",
    "both become:\n",
    "\n",
    "'here space'"
   ]
  },
  {
   "cell_type": "code",
   "execution_count": 1,
   "metadata": {},
   "outputs": [],
   "source": [
    "def rev_word(s):\n",
    "    s = s.strip()\n",
    "    s = s.split(' ')\n",
    "    s = [w for w in s if w != '']\n",
    "    s.reverse()\n",
    "    s = ' '.join(s)\n",
    "    \n",
    "    return s\n",
    "def rev_word2(s):\n",
    "    return ' '.join(reversed(s.split()))\n",
    "def rev_word3(s):\n",
    "    return ' '.join(s.split()[::-1])\n",
    "    \n",
    "def rev_word4(s):\n",
    "    \n",
    "    result = ''\n",
    "    words = dict()\n",
    "    pre_w = ' '\n",
    "    cur_w = ''\n",
    "    cnt = 0\n",
    "    for i, w in enumerate(s):\n",
    "        if w == ' ' and pre_w == ' ':\n",
    "            pre_w = w\n",
    "        elif w == ' ' and pre_w != ' ':\n",
    "            pre_w = w\n",
    "            words[cnt] = cur_w\n",
    "            cur_w = ''\n",
    "            cnt += 1\n",
    "        elif w != ' ' and i != len(s)-1:\n",
    "            pre_w = w\n",
    "            cur_w += w\n",
    "        elif i == len(s)-1:\n",
    "            cur_w += w\n",
    "            words[cnt] = cur_w\n",
    "    \n",
    "    for i in range(len(words)-1, -1, -1):\n",
    "        result += words[i]\n",
    "        \n",
    "        if i == 0:\n",
    "            continue\n",
    "        else:\n",
    "            result += ' '\n",
    "    return result\n",
    "def rev_word5(s):\n",
    "    \n",
    "    length = len(s)\n",
    "    words = []\n",
    "    \n",
    "    i = 0\n",
    "    \n",
    "    while i < len(s):\n",
    "        \n",
    "        if s[i] != ' ':\n",
    "            word_start = i\n",
    "            \n",
    "            while i < len(s) and s[i] != ' ':\n",
    "                i += 1\n",
    "                \n",
    "            words.append(s[word_start:i])\n",
    "        \n",
    "        i += 1\n",
    "    \n",
    "    return ' '.join(reversed(words))"
   ]
  },
  {
   "cell_type": "code",
   "execution_count": 2,
   "metadata": {},
   "outputs": [
    {
     "data": {
      "text/plain": [
       "'before space'"
      ]
     },
     "execution_count": 2,
     "metadata": {},
     "output_type": "execute_result"
    }
   ],
   "source": [
    "rev_word5('Hi John,   are you ready to go?')\n",
    "rev_word5('    space before')"
   ]
  },
  {
   "cell_type": "code",
   "execution_count": 3,
   "metadata": {},
   "outputs": [
    {
     "name": "stdout",
     "output_type": "stream",
     "text": [
      "ALL TEST CASES PASSED\n"
     ]
    }
   ],
   "source": [
    "\"\"\"\n",
    "RUN THIS CELL TO TEST YOUR SOLUTION\n",
    "\"\"\"\n",
    "\n",
    "from nose.tools import assert_equal\n",
    "\n",
    "class ReversalTest(object):\n",
    "    \n",
    "    def test(self,sol):\n",
    "        assert_equal(sol('    space before'),'before space')\n",
    "        assert_equal(sol('space after     '),'after space')\n",
    "        assert_equal(sol('   Hello John    how are you   '),'you are how John Hello')\n",
    "        assert_equal(sol('1'),'1')\n",
    "        print(\"ALL TEST CASES PASSED\")\n",
    "        \n",
    "# Run and test\n",
    "t = ReversalTest()\n",
    "t.test(rev_word)"
   ]
  },
  {
   "cell_type": "code",
   "execution_count": null,
   "metadata": {},
   "outputs": [],
   "source": []
  }
 ],
 "metadata": {
  "kernelspec": {
   "display_name": "pytorch_env",
   "language": "python",
   "name": "pytorch_env"
  },
  "language_info": {
   "codemirror_mode": {
    "name": "ipython",
    "version": 3
   },
   "file_extension": ".py",
   "mimetype": "text/x-python",
   "name": "python",
   "nbconvert_exporter": "python",
   "pygments_lexer": "ipython3",
   "version": "3.7.3"
  }
 },
 "nbformat": 4,
 "nbformat_minor": 2
}
