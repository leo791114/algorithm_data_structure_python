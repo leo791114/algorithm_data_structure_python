{
 "cells": [
  {
   "cell_type": "markdown",
   "metadata": {},
   "source": [
    "### Problem\n",
    "\n",
    "Consider an array of non-negative integers. A second array is formed by shuffling the elements of the first array and deleting a random element. Given these two arrays, find which element is missing in the second array.\n",
    "\n",
    "Here is an example input, the first array is shuffled and the number 5 is removed to construct the second array.\n",
    "\n",
    "Input:\n",
    "\n",
    "finder([1,2,3,4,5,6,7],[3,7,2,1,4,6])\n",
    "\n",
    "Output:\n",
    "\n",
    "5 is the missing number"
   ]
  },
  {
   "cell_type": "code",
   "execution_count": 1,
   "metadata": {},
   "outputs": [],
   "source": [
    "from collections import defaultdict\n",
    "def finder1(arr1, arr2):\n",
    "    \n",
    "    for ele in arr2:\n",
    "        if ele in arr1:\n",
    "            arr1.remove(ele)\n",
    "    \n",
    "    return arr1[0]\n",
    "def finder2(arr1, arr2):\n",
    "    '''\n",
    "    list sorting is O(NlogN)\n",
    "    This solution is also O(NlogN)\n",
    "    '''\n",
    "    # sort array first\n",
    "    arr1.sort()\n",
    "    arr2.sort()\n",
    "    \n",
    "    for num1, num2 in zip(arr1, arr2):\n",
    "        if num1 != num2:\n",
    "            return num1\n",
    "        \n",
    "    return arr1[-1]\n",
    "def finder3(arr1, arr2):\n",
    "    '''\n",
    "    O(N)\n",
    "    '''\n",
    "    \n",
    "    counter = defaultdict(int)\n",
    "    \n",
    "    for num2 in arr2:\n",
    "        counter[num2] += 1\n",
    "        \n",
    "    for num1 in arr1:\n",
    "        \n",
    "        if counter[num1] == 0:\n",
    "            return num1\n",
    "        else:\n",
    "            counter[num1] -= 1\n",
    "    \n",
    "    return counter\n",
    "def finder4(arr1, arr2):\n",
    "    '''\n",
    "    O(N)\n",
    "    '''\n",
    "    \n",
    "    counter = dict()\n",
    "    \n",
    "    for num2 in arr2:\n",
    "        if counter.get(num2):\n",
    "            counter[num2] += 1\n",
    "        else:\n",
    "            counter[num2] = 1\n",
    "    \n",
    "    for num1 in arr1:\n",
    "        if not counter.get(num1):\n",
    "            return num1\n",
    "        elif counter.get(num1) == 0:\n",
    "            return num1\n",
    "        else:\n",
    "            counter[num1] -= 1\n",
    "            \n",
    "def finder5(arr1, arr2):\n",
    "    '''\n",
    "    O(N)\n",
    "    '''\n",
    "    result = 0\n",
    "    for num in arr1+arr2:\n",
    "        result ^= num\n",
    "        print(num, result)\n",
    "    \n",
    "    return result"
   ]
  },
  {
   "cell_type": "code",
   "execution_count": 2,
   "metadata": {},
   "outputs": [
    {
     "name": "stdout",
     "output_type": "stream",
     "text": [
      "1 1\n",
      "2 3\n",
      "3 0\n",
      "4 4\n",
      "5 1\n",
      "6 7\n",
      "7 0\n",
      "3 3\n",
      "7 4\n",
      "2 6\n",
      "1 7\n",
      "4 3\n",
      "6 5\n"
     ]
    },
    {
     "data": {
      "text/plain": [
       "5"
      ]
     },
     "execution_count": 2,
     "metadata": {},
     "output_type": "execute_result"
    }
   ],
   "source": [
    "arr1 = [1,2,3,4,5,6,7]\n",
    "arr2 = [3,7,2,1,4,6]\n",
    "finder5(arr1,arr2)\n",
    "arr1 = [5,5,7,7]\n",
    "arr2 = [5,7,7]\n",
    "finder4(arr1,arr2)"
   ]
  },
  {
   "cell_type": "code",
   "execution_count": 5,
   "metadata": {},
   "outputs": [
    {
     "name": "stdout",
     "output_type": "stream",
     "text": [
      "ALL TEST CASES PASSED\n"
     ]
    }
   ],
   "source": [
    "\"\"\"\n",
    "RUN THIS CELL TO TEST YOUR SOLUTION\n",
    "\"\"\"\n",
    "from nose.tools import assert_equal\n",
    "\n",
    "class TestFinder(object):\n",
    "    \n",
    "    def test(self,sol):\n",
    "        assert_equal(sol([5,5,7,7],[5,7,7]),5)\n",
    "        assert_equal(sol([1,2,3,4,5,6,7],[3,7,2,1,4,6]),5)\n",
    "        assert_equal(sol([9,8,7,6,5,4,3,2,1],[9,8,7,5,4,3,2,1]),6)\n",
    "        print('ALL TEST CASES PASSED')\n",
    "\n",
    "# Run test\n",
    "t = TestFinder()\n",
    "t.test(finder1)"
   ]
  },
  {
   "cell_type": "code",
   "execution_count": null,
   "metadata": {},
   "outputs": [],
   "source": []
  }
 ],
 "metadata": {
  "kernelspec": {
   "display_name": "pytorch_env",
   "language": "python",
   "name": "pytorch_env"
  },
  "language_info": {
   "codemirror_mode": {
    "name": "ipython",
    "version": 3
   },
   "file_extension": ".py",
   "mimetype": "text/x-python",
   "name": "python",
   "nbconvert_exporter": "python",
   "pygments_lexer": "ipython3",
   "version": "3.7.3"
  }
 },
 "nbformat": 4,
 "nbformat_minor": 2
}
